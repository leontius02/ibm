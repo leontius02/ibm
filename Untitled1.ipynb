{
  "metadata": {
    "language_info": {
      "codemirror_mode": {
        "name": "python",
        "version": 3
      },
      "file_extension": ".py",
      "mimetype": "text/x-python",
      "name": "python",
      "nbconvert_exporter": "python",
      "pygments_lexer": "ipython3",
      "version": "3.8"
    },
    "kernelspec": {
      "name": "python",
      "display_name": "Pyolite",
      "language": "python"
    }
  },
  "nbformat_minor": 4,
  "nbformat": 4,
  "cells": [
    {
      "cell_type": "markdown",
      "source": "#My Jupyter Notebook on IBM Watson Studio",
      "metadata": {}
    },
    {
      "cell_type": "markdown",
      "source": "**Leon Halim**",
      "metadata": {}
    },
    {
      "cell_type": "markdown",
      "source": "Data Scientist",
      "metadata": {}
    },
    {
      "cell_type": "markdown",
      "source": "*I am interested in data science because I want to gather insight from working with big data.*",
      "metadata": {}
    },
    {
      "cell_type": "markdown",
      "source": "###This code is used to calculate 1+1",
      "metadata": {}
    },
    {
      "cell_type": "code",
      "source": "1+1",
      "metadata": {
        "trusted": true
      },
      "execution_count": 1,
      "outputs": [
        {
          "execution_count": 1,
          "output_type": "execute_result",
          "data": {
            "text/plain": "2"
          },
          "metadata": {}
        }
      ]
    },
    {
      "cell_type": "markdown",
      "source": "* Bullet list 1\n* Bullet list 2\n* Bullet list 3\n\n1. Numbered list 1\n2. Numbered list 2\n3. Numbered list 3\n\n`Here is some code!`\n\n<a href=\"url\" target=\"www.ibm.com\">Click here!!</a>",
      "metadata": {}
    }
  ]
}